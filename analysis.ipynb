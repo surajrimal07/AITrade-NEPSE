import numpy as np
import pandas as pd
import requests
from io import StringIO
from sklearn.model_selection import train_test_split
from sklearn.linear_model import LinearRegression
from sklearn.metrics import mean_squared_error, r2_score
import matplotlib.pyplot as plt

def fetch_data():
    url = 'https://api.zorsha.com.np/api/nepsedailyindex?format=csv'
    response = requests.get(url, verify=True)
    if response.status_code == 200:
        return pd.read_csv(StringIO(response.text))
    else:
        print(f"Failed to fetch data from {url}")
        return None

# Fetch the data
data = fetch_data()

# Check if data is fetched successfully
if data is not None:
    # Perform regression analysis
    X = data[['open', 'high', 'low', 'volume']]  # Features
    y = data['close']  # Target variable

    # Split the data into training and testing sets
    X_train, X_test, y_train, y_test = train_test_split(X, y, test_size=0.2, random_state=0)

    # Train the model
    model = LinearRegression()
    model.fit(X_train, y_train)

    # Make predictions
    y_pred = model.predict(X_test)

    # Evaluate the model
    mse = mean_squared_error(y_test, y_pred)
    r2 = r2_score(y_test, y_pred)
    print(f"Mean Squared Error: {mse}")
    print(f"R-squared: {r2}")

    # Visualize the results
    plt.scatter(y_test, y_pred)
    plt.xlabel('Actual Closing Price')
    plt.ylabel('Predicted Closing Price')
    plt.title('Regression Analysis: Actual vs Predicted Closing Price')
    plt.show()
else:
    print("Data is not fetched successfully. Check the URL or connection.")
